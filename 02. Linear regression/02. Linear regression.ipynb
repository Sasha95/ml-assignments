{
 "cells": [
  {
   "cell_type": "markdown",
   "metadata": {},
   "source": [
    "# 2. Линейная регрессия\n",
    "\n",
    "**Цель работы**: Изучить основные понятия машинного обучения, исследовать методы решения задачи регрессии, применить полученные знания для решения практических задач."
   ]
  },
  {
   "cell_type": "markdown",
   "metadata": {},
   "source": [
    "## Регрессия\n",
    "\n",
    "### Обучающая выборка\n",
    "\n",
    "Задача регрессии заключается в поиске зависимости некоторой переменной $y$ от другой переменной $x$. При этом переменная $x$ может быть векторной.\n",
    "\n",
    "$$x=(x_1, x_2, \\dots, x_n).$$\n",
    "\n",
    "В этом случае говорят о *множественной регрессии*. В противном случае, если $x$ — скаляр, регрессию называют *парной*.\n",
    "\n",
    "Компоненты $x_j$ называются *признаками*.\n",
    "\n",
    "Набор данных, который используется для восстановления зависимости называется *обучающей выборкой*. Она представляет собой пару $(X, Y)$, где\n",
    "\n",
    "$$X = \n",
    "\\left(\n",
    "\\begin{array}%\n",
    "x^{(1)}\\\\\n",
    "x^{(2)}\\\\\n",
    "\\vdots\\\\\n",
    "x^{(m)}\\\\\n",
    "\\end{array}\n",
    "\\right) = \n",
    "\\left(\n",
    "\\begin{array}%\n",
    "x^{(1)}_1&x^{(1)}_2&\\dots&x^{(1)}_n\\\\\n",
    "x^{(2)}_1&x^{(2)}_2&\\dots&x^{(2)}_n\\\\\n",
    "\\vdots&\\vdots&\\ddots&\\vdots\\\\\\\n",
    "x^{(m)}_1&x^{(m)}_2&\\dots&x^{(m)}_n\\\\\n",
    "\\end{array}\n",
    "\\right),\n",
    "Y = \n",
    "\\left(\n",
    "\\begin{array}%\n",
    "y^{(1)}\\\\\n",
    "y^{(2)}\\\\\n",
    "\\vdots\\\\\n",
    "y^{(m)}\\\\\n",
    "\\end{array}\n",
    "\\right).\n",
    "$$\n",
    "\n",
    "Пара $(x^{(i)}, y^{(i)})$ называется *прецедентом*."
   ]
  },
  {
   "cell_type": "markdown",
   "metadata": {
    "collapsed": true
   },
   "source": [
    "### Линейная регрессия\n",
    "\n",
    "Простейший случай регрессии — линейная регрессия. В ней искомая зависимость описывается линейной функцией.\n",
    "\n",
    "$$h_{\\theta}(x) = \\theta_0 + \\theta_1 x_1 + \\theta_2 x_2 + \\dots + \\theta_n x_n = \\theta_0 + \\sum_{j=1}^n\\theta_jx_j.$$\n",
    "\n",
    "Здесь $h_{\\theta}(x)$ — обучаемая (в данном случае линейная) модель описывающая зависимость $y$ от $x$. Параметры $\\theta_j$ — параметры модели, а $\\theta$ — вектор параметров.\n",
    "\n",
    "$$\\theta = \\left(\n",
    "\\begin{array}%\n",
    "\\theta_0\\\\\n",
    "\\theta_1\\\\\n",
    "\\theta_2\\\\\n",
    "\\vdots\\\\\n",
    "\\theta_n\\\\\n",
    "\\end{array}\n",
    "\\right).\n",
    "$$\n",
    "\n",
    "Для упрощения записи выражений можно ввести фиктивный признак \n",
    "\n",
    "$$x_0 \\equiv 1.$$\n",
    "\n",
    "Этот признак добавляется к исходным данным как столбец из 1 в матрице $X$.\n",
    "\n",
    "Тогда модель записывается как скалярное произведение\n",
    "\n",
    "$$h_{\\theta}(x) = \\sum_{j=1}^m x_j \\theta_j = x \\theta.$$\n",
    "\n",
    "Значения, предсказанные моделью для каждого набора признаком из обучающей выборки можно вычислить аналогично.\n",
    "\n",
    "$$h_{\\theta}(X) = X \\theta.$$\n",
    "\n",
    "В этом случае получаем вектор-столбец со значениями $h_{\\theta}(x^{(i)})$ для всех $i$."
   ]
  },
  {
   "cell_type": "markdown",
   "metadata": {
    "collapsed": true
   },
   "source": [
    "### Функция потерь\n",
    "\n",
    "Параметры $\\theta$ выбираются таким образом, чтобы минимизировать ошибку между предсказанными ($h_{\\theta}(X)$) и известными в обучающей выборке ($Y$) значениями.\n",
    "\n",
    "Часто в качестве меры такой ошибки берут среднеквадратическое отклонение.\n",
    "\n",
    "$$J(\\theta) = \\frac1{2m}\\sum_{i=1}^{m}\\left[h_{\\theta}(x^{(i)})-y^{(i)}\\right]^2$$\n",
    "\n",
    "Функция $J(\\theta)$ называется *функцией потерь*.\n",
    "\n",
    "Тогда параметры модели находят как аргумент минимума функции потерь\n",
    "\n",
    "$$\\theta = \\arg\\min_{\\theta}J(\\theta).$$"
   ]
  },
  {
   "cell_type": "markdown",
   "metadata": {},
   "source": [
    "## Методы оптимизации\n",
    "\n",
    "В настоящей лабораторной работе требуется решить задачу поиска оптимального ветора $\\theta$ с помощью следующих методов:\n",
    "\n",
    "- нормальное уравнение,\n",
    "- метод градиентного спуска,\n",
    "- методы оптимизации из библиотеки SciPy."
   ]
  },
  {
   "cell_type": "markdown",
   "metadata": {},
   "source": [
    "## Подготовка библиотек"
   ]
  },
  {
   "cell_type": "code",
   "execution_count": null,
   "metadata": {
    "collapsed": true
   },
   "outputs": [],
   "source": [
    "import numpy as np\n",
    "import scipy.io as sio\n",
    "import scipy.optimize as so\n",
    "import matplotlib.pyplot as plt\n",
    "%matplotlib inline\n",
    "from matplotlib import rc\n",
    "rc('font', family='Verdana')"
   ]
  },
  {
   "cell_type": "markdown",
   "metadata": {},
   "source": [
    "## Задача 1. Зависимость роста от возраста\n",
    "\n",
    "Требуется найти зависимость роста (в метрах) от возраста (в годах) детей.\n",
    "\n",
    "Загрузим обучающую выборку."
   ]
  },
  {
   "cell_type": "code",
   "execution_count": null,
   "metadata": {
    "collapsed": false,
    "scrolled": false
   },
   "outputs": [],
   "source": [
    "data = sio.loadmat('heights.mat')\n",
    "X = data['age']\n",
    "Y = data['height']\n",
    "m, n = X.shape\n",
    "plt.plot(X, Y, 'xr')\n",
    "plt.xlabel('Возраст, лет')\n",
    "plt.ylabel('Рост, м')\n",
    "plt.title('Зависимость роста от возраста')\n",
    "plt.show()"
   ]
  },
  {
   "cell_type": "markdown",
   "metadata": {},
   "source": [
    "Модель"
   ]
  },
  {
   "cell_type": "code",
   "execution_count": null,
   "metadata": {
    "collapsed": true
   },
   "outputs": [],
   "source": [
    "def h(x, theta):\n",
    "    pass"
   ]
  },
  {
   "cell_type": "markdown",
   "metadata": {},
   "source": [
    "## Задача 2. Цены на дом\n",
    "\n",
    "Требуется найти зависимость стоимости дома (в долларах США) от двух параметров: площади (в кв. футах) и количества спален.\n",
    "\n",
    "Загрузим исходные данные."
   ]
  },
  {
   "cell_type": "code",
   "execution_count": null,
   "metadata": {
    "collapsed": false
   },
   "outputs": [],
   "source": [
    "data = sio.loadmat('prices.mat')\n",
    "X = data['house']\n",
    "Y = data['price']"
   ]
  }
 ],
 "metadata": {
  "kernelspec": {
   "display_name": "Python 3",
   "language": "python",
   "name": "python3"
  },
  "language_info": {
   "codemirror_mode": {
    "name": "ipython",
    "version": 3
   },
   "file_extension": ".py",
   "mimetype": "text/x-python",
   "name": "python",
   "nbconvert_exporter": "python",
   "pygments_lexer": "ipython3",
   "version": "3.4.3+"
  }
 },
 "nbformat": 4,
 "nbformat_minor": 0
}
